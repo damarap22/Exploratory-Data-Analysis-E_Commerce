{
 "cells": [
  {
   "cell_type": "code",
   "execution_count": 233,
   "metadata": {},
   "outputs": [],
   "source": [
    "import pandas as pd\n",
    "import seaborn as sns\n",
    "import matplotlib.pyplot as plt\n",
    "import numpy as np\n",
    "%matplotlib inline"
   ]
  },
  {
   "cell_type": "markdown",
   "metadata": {},
   "source": [
    "## Permasalahan : Menrumuskan strategi untuk meningkatkan penjualan produk"
   ]
  },
  {
   "cell_type": "markdown",
   "metadata": {},
   "source": [
    "## Tujuan EDA :\n",
    "### Mencari faktor-faktor yang mempengaruhi tingkat penjualan produk"
   ]
  },
  {
   "cell_type": "code",
   "execution_count": 234,
   "metadata": {
    "scrolled": false
   },
   "outputs": [
    {
     "data": {
      "text/html": [
       "<div>\n",
       "<style scoped>\n",
       "    .dataframe tbody tr th:only-of-type {\n",
       "        vertical-align: middle;\n",
       "    }\n",
       "\n",
       "    .dataframe tbody tr th {\n",
       "        vertical-align: top;\n",
       "    }\n",
       "\n",
       "    .dataframe thead th {\n",
       "        text-align: right;\n",
       "    }\n",
       "</style>\n",
       "<table border=\"1\" class=\"dataframe\">\n",
       "  <thead>\n",
       "    <tr style=\"text-align: right;\">\n",
       "      <th></th>\n",
       "      <th>category</th>\n",
       "      <th>product</th>\n",
       "      <th>Original_price</th>\n",
       "      <th>price</th>\n",
       "      <th>perc_of_unit_sold</th>\n",
       "      <th>rating</th>\n",
       "      <th>shpping_rate</th>\n",
       "      <th>gender</th>\n",
       "    </tr>\n",
       "  </thead>\n",
       "  <tbody>\n",
       "    <tr>\n",
       "      <th>0</th>\n",
       "      <td>Athletic Shoes</td>\n",
       "      <td>Nike SB Check Solar Cnvs Skateboarding Shoes f...</td>\n",
       "      <td>299.0</td>\n",
       "      <td>211.48</td>\n",
       "      <td>94.0</td>\n",
       "      <td>100.0</td>\n",
       "      <td>FREE Shipping</td>\n",
       "      <td>men</td>\n",
       "    </tr>\n",
       "    <tr>\n",
       "      <th>1</th>\n",
       "      <td>Athletic Shoes</td>\n",
       "      <td>Nike Md Runner 2 Two-Tone Textile-Mesh Suede-A...</td>\n",
       "      <td>349.0</td>\n",
       "      <td>289.99</td>\n",
       "      <td>80.0</td>\n",
       "      <td>88.0</td>\n",
       "      <td>FREE Shipping</td>\n",
       "      <td>men</td>\n",
       "    </tr>\n",
       "    <tr>\n",
       "      <th>2</th>\n",
       "      <td>Athletic Shoes</td>\n",
       "      <td>Nike air Heights Sneaker for Women , Size 38 E...</td>\n",
       "      <td>419.0</td>\n",
       "      <td>337.48</td>\n",
       "      <td>77.0</td>\n",
       "      <td>NaN</td>\n",
       "      <td>FREE Shipping</td>\n",
       "      <td>women</td>\n",
       "    </tr>\n",
       "    <tr>\n",
       "      <th>3</th>\n",
       "      <td>Athletic Shoes</td>\n",
       "      <td>Nike Fitness Shoes For Men , 43 EU , Black</td>\n",
       "      <td>319.0</td>\n",
       "      <td>211.48</td>\n",
       "      <td>76.0</td>\n",
       "      <td>80.0</td>\n",
       "      <td>FREE Shipping</td>\n",
       "      <td>men</td>\n",
       "    </tr>\n",
       "    <tr>\n",
       "      <th>4</th>\n",
       "      <td>Athletic Shoes</td>\n",
       "      <td>adidas ASWEERUN Sneaker for Mens, Grey - Size ...</td>\n",
       "      <td>259.0</td>\n",
       "      <td>194.99</td>\n",
       "      <td>94.0</td>\n",
       "      <td>NaN</td>\n",
       "      <td>Eligible for FREE Shipping</td>\n",
       "      <td>men</td>\n",
       "    </tr>\n",
       "  </tbody>\n",
       "</table>\n",
       "</div>"
      ],
      "text/plain": [
       "         category                                            product  \\\n",
       "0  Athletic Shoes  Nike SB Check Solar Cnvs Skateboarding Shoes f...   \n",
       "1  Athletic Shoes  Nike Md Runner 2 Two-Tone Textile-Mesh Suede-A...   \n",
       "2  Athletic Shoes  Nike air Heights Sneaker for Women , Size 38 E...   \n",
       "3  Athletic Shoes         Nike Fitness Shoes For Men , 43 EU , Black   \n",
       "4  Athletic Shoes  adidas ASWEERUN Sneaker for Mens, Grey - Size ...   \n",
       "\n",
       "   Original_price   price  perc_of_unit_sold  rating  \\\n",
       "0           299.0  211.48               94.0   100.0   \n",
       "1           349.0  289.99               80.0    88.0   \n",
       "2           419.0  337.48               77.0     NaN   \n",
       "3           319.0  211.48               76.0    80.0   \n",
       "4           259.0  194.99               94.0     NaN   \n",
       "\n",
       "                 shpping_rate gender  \n",
       "0               FREE Shipping    men  \n",
       "1               FREE Shipping    men  \n",
       "2               FREE Shipping  women  \n",
       "3               FREE Shipping    men  \n",
       "4  Eligible for FREE Shipping    men  "
      ]
     },
     "execution_count": 234,
     "metadata": {},
     "output_type": "execute_result"
    }
   ],
   "source": [
    "df = pd.read_csv(\"ecommerce.csv\",index_col=0)\n",
    "\n",
    "df.head()"
   ]
  },
  {
   "cell_type": "markdown",
   "metadata": {},
   "source": [
    "### Mencoba untuk melihat korelasi antara besar diskon yang diberikan dan jenis pengiriman barang terhadap jumlah unit terjual"
   ]
  },
  {
   "cell_type": "code",
   "execution_count": 235,
   "metadata": {},
   "outputs": [
    {
     "data": {
      "text/plain": [
       "category               0\n",
       "product                0\n",
       "Original_price        26\n",
       "price                  0\n",
       "perc_of_unit_sold     87\n",
       "rating               182\n",
       "shpping_rate          42\n",
       "gender                28\n",
       "dtype: int64"
      ]
     },
     "execution_count": 235,
     "metadata": {},
     "output_type": "execute_result"
    }
   ],
   "source": [
    "# mencari data null\n",
    "df.isna().sum()"
   ]
  },
  {
   "cell_type": "markdown",
   "metadata": {},
   "source": [
    "Kolom rating memiliki 182 null values, karena kolom rating tidak digunakan dalam EDA kali ini, maka kolom rating akan di drop"
   ]
  },
  {
   "cell_type": "code",
   "execution_count": 236,
   "metadata": {
    "scrolled": true
   },
   "outputs": [
    {
     "data": {
      "text/html": [
       "<div>\n",
       "<style scoped>\n",
       "    .dataframe tbody tr th:only-of-type {\n",
       "        vertical-align: middle;\n",
       "    }\n",
       "\n",
       "    .dataframe tbody tr th {\n",
       "        vertical-align: top;\n",
       "    }\n",
       "\n",
       "    .dataframe thead th {\n",
       "        text-align: right;\n",
       "    }\n",
       "</style>\n",
       "<table border=\"1\" class=\"dataframe\">\n",
       "  <thead>\n",
       "    <tr style=\"text-align: right;\">\n",
       "      <th></th>\n",
       "      <th>category</th>\n",
       "      <th>product</th>\n",
       "      <th>Original_price</th>\n",
       "      <th>price</th>\n",
       "      <th>perc_of_unit_sold</th>\n",
       "      <th>shpping_rate</th>\n",
       "      <th>gender</th>\n",
       "    </tr>\n",
       "  </thead>\n",
       "  <tbody>\n",
       "    <tr>\n",
       "      <th>0</th>\n",
       "      <td>Athletic Shoes</td>\n",
       "      <td>Nike SB Check Solar Cnvs Skateboarding Shoes f...</td>\n",
       "      <td>299.0</td>\n",
       "      <td>211.48</td>\n",
       "      <td>94.0</td>\n",
       "      <td>FREE Shipping</td>\n",
       "      <td>men</td>\n",
       "    </tr>\n",
       "    <tr>\n",
       "      <th>1</th>\n",
       "      <td>Athletic Shoes</td>\n",
       "      <td>Nike Md Runner 2 Two-Tone Textile-Mesh Suede-A...</td>\n",
       "      <td>349.0</td>\n",
       "      <td>289.99</td>\n",
       "      <td>80.0</td>\n",
       "      <td>FREE Shipping</td>\n",
       "      <td>men</td>\n",
       "    </tr>\n",
       "    <tr>\n",
       "      <th>2</th>\n",
       "      <td>Athletic Shoes</td>\n",
       "      <td>Nike air Heights Sneaker for Women , Size 38 E...</td>\n",
       "      <td>419.0</td>\n",
       "      <td>337.48</td>\n",
       "      <td>77.0</td>\n",
       "      <td>FREE Shipping</td>\n",
       "      <td>women</td>\n",
       "    </tr>\n",
       "    <tr>\n",
       "      <th>3</th>\n",
       "      <td>Athletic Shoes</td>\n",
       "      <td>Nike Fitness Shoes For Men , 43 EU , Black</td>\n",
       "      <td>319.0</td>\n",
       "      <td>211.48</td>\n",
       "      <td>76.0</td>\n",
       "      <td>FREE Shipping</td>\n",
       "      <td>men</td>\n",
       "    </tr>\n",
       "    <tr>\n",
       "      <th>4</th>\n",
       "      <td>Athletic Shoes</td>\n",
       "      <td>adidas ASWEERUN Sneaker for Mens, Grey - Size ...</td>\n",
       "      <td>259.0</td>\n",
       "      <td>194.99</td>\n",
       "      <td>94.0</td>\n",
       "      <td>Eligible for FREE Shipping</td>\n",
       "      <td>men</td>\n",
       "    </tr>\n",
       "  </tbody>\n",
       "</table>\n",
       "</div>"
      ],
      "text/plain": [
       "         category                                            product  \\\n",
       "0  Athletic Shoes  Nike SB Check Solar Cnvs Skateboarding Shoes f...   \n",
       "1  Athletic Shoes  Nike Md Runner 2 Two-Tone Textile-Mesh Suede-A...   \n",
       "2  Athletic Shoes  Nike air Heights Sneaker for Women , Size 38 E...   \n",
       "3  Athletic Shoes         Nike Fitness Shoes For Men , 43 EU , Black   \n",
       "4  Athletic Shoes  adidas ASWEERUN Sneaker for Mens, Grey - Size ...   \n",
       "\n",
       "   Original_price   price  perc_of_unit_sold                shpping_rate  \\\n",
       "0           299.0  211.48               94.0               FREE Shipping   \n",
       "1           349.0  289.99               80.0               FREE Shipping   \n",
       "2           419.0  337.48               77.0               FREE Shipping   \n",
       "3           319.0  211.48               76.0               FREE Shipping   \n",
       "4           259.0  194.99               94.0  Eligible for FREE Shipping   \n",
       "\n",
       "  gender  \n",
       "0    men  \n",
       "1    men  \n",
       "2  women  \n",
       "3    men  \n",
       "4    men  "
      ]
     },
     "execution_count": 236,
     "metadata": {},
     "output_type": "execute_result"
    }
   ],
   "source": [
    "#drop kolom rating\n",
    "\n",
    "df = df.drop(['rating'],axis=1)\n",
    "df.head()"
   ]
  },
  {
   "cell_type": "markdown",
   "metadata": {},
   "source": [
    "category = kategori produk,\n",
    "product = nama produk,\n",
    "original_price = harga asli sebelum diskon,\n",
    "price = harga setelah diskon,\n",
    "perc_of_unit_sold = asumsi presentase jumlah produk yang terjual per 100 produk,\n",
    "shpping_rate = jenis shipping,\n",
    "gender = gender yang menjadi target produk,\n",
    "discount_prc = presentase diskon,"
   ]
  },
  {
   "cell_type": "code",
   "execution_count": 237,
   "metadata": {},
   "outputs": [
    {
     "data": {
      "text/plain": [
       "(137,)"
      ]
     },
     "execution_count": 237,
     "metadata": {},
     "output_type": "execute_result"
    }
   ],
   "source": [
    "dropindex = df[(df.gender.isna()) | (df.perc_of_unit_sold.isna()) | (df.Original_price.isna()) | (df.shpping_rate.isna())].index\n",
    "dropindex.shape"
   ]
  },
  {
   "cell_type": "markdown",
   "metadata": {},
   "source": [
    "Terdapat 137 row yang memiliki null values pada kolom yang akan digunakan dalam EDA, dikarenakan data kolom tersebut merupakan kolom target EDA sehingga 137 row tersebut akan di drop"
   ]
  },
  {
   "cell_type": "code",
   "execution_count": 238,
   "metadata": {},
   "outputs": [],
   "source": [
    "df = df.drop(dropindex,axis=0)"
   ]
  },
  {
   "cell_type": "code",
   "execution_count": 239,
   "metadata": {
    "scrolled": false
   },
   "outputs": [
    {
     "data": {
      "text/plain": [
       "(array([0, 1, 2, 3, 4, 5, 6]), <a list of 7 Text major ticklabel objects>)"
      ]
     },
     "execution_count": 239,
     "metadata": {},
     "output_type": "execute_result"
    },
    {
     "data": {
      "image/png": "[encoded data removed]",
      "text/plain": [
       "<Figure size 720x432 with 1 Axes>"
      ]
     },
     "metadata": {
      "needs_background": "light"
     },
     "output_type": "display_data"
    }
   ],
   "source": [
    "plt.figure(figsize=(10,6))\n",
    "plt.title('Perbandingan Penjualan Produk berdasarkan Kategori')\n",
    "sns.barplot(df.category,df.perc_of_unit_sold,estimator=sum)\n",
    "plt.xlabel('Kategori')\n",
    "plt.ylabel('Jumlah Produk Terjual')\n",
    "plt.xticks(rotation=45)"
   ]
  },
  {
   "cell_type": "markdown",
   "metadata": {},
   "source": [
    "Gambaran umum : Produk kategori watches dan eyewear memiliki tingkat penjualan yang tinggi , sedangkan sportswear dan wallets memiliki tingkat penjualan yang rendah"
   ]
  },
  {
   "cell_type": "markdown",
   "metadata": {},
   "source": [
    "### Pengaruh besar diskon dengan presentase penjualan"
   ]
  },
  {
   "cell_type": "code",
   "execution_count": 240,
   "metadata": {
    "scrolled": true
   },
   "outputs": [
    {
     "data": {
      "text/html": [
       "<div>\n",
       "<style scoped>\n",
       "    .dataframe tbody tr th:only-of-type {\n",
       "        vertical-align: middle;\n",
       "    }\n",
       "\n",
       "    .dataframe tbody tr th {\n",
       "        vertical-align: top;\n",
       "    }\n",
       "\n",
       "    .dataframe thead th {\n",
       "        text-align: right;\n",
       "    }\n",
       "</style>\n",
       "<table border=\"1\" class=\"dataframe\">\n",
       "  <thead>\n",
       "    <tr style=\"text-align: right;\">\n",
       "      <th></th>\n",
       "      <th>category</th>\n",
       "      <th>product</th>\n",
       "      <th>Original_price</th>\n",
       "      <th>price</th>\n",
       "      <th>perc_of_unit_sold</th>\n",
       "      <th>shpping_rate</th>\n",
       "      <th>gender</th>\n",
       "      <th>discount_prc</th>\n",
       "      <th>gap</th>\n",
       "    </tr>\n",
       "  </thead>\n",
       "  <tbody>\n",
       "    <tr>\n",
       "      <th>151</th>\n",
       "      <td>Watches</td>\n",
       "      <td>Akribos XXIV Men's Black Dial Stainless Steel ...</td>\n",
       "      <td>2240.0</td>\n",
       "      <td>139.48</td>\n",
       "      <td>80.0</td>\n",
       "      <td>Eligible for FREE Shipping</td>\n",
       "      <td>men</td>\n",
       "      <td>93.77</td>\n",
       "      <td>2100.52</td>\n",
       "    </tr>\n",
       "    <tr>\n",
       "      <th>153</th>\n",
       "      <td>Watches</td>\n",
       "      <td>August Steiner Men's Gun/White Dial Metal Band...</td>\n",
       "      <td>1670.0</td>\n",
       "      <td>199.49</td>\n",
       "      <td>77.0</td>\n",
       "      <td>Eligible for FREE Shipping</td>\n",
       "      <td>men</td>\n",
       "      <td>88.05</td>\n",
       "      <td>1470.51</td>\n",
       "    </tr>\n",
       "    <tr>\n",
       "      <th>55</th>\n",
       "      <td>Watches</td>\n",
       "      <td>JBW Alessandra for Women - Analog Stainless St...</td>\n",
       "      <td>5481.0</td>\n",
       "      <td>679.49</td>\n",
       "      <td>41.0</td>\n",
       "      <td>FREE Shipping</td>\n",
       "      <td>women</td>\n",
       "      <td>87.60</td>\n",
       "      <td>4801.51</td>\n",
       "    </tr>\n",
       "    <tr>\n",
       "      <th>58</th>\n",
       "      <td>Watches</td>\n",
       "      <td>Akribos XXIV Swiss Quartz Chronograph Strap Me...</td>\n",
       "      <td>1970.0</td>\n",
       "      <td>249.00</td>\n",
       "      <td>95.0</td>\n",
       "      <td>FREE Shipping</td>\n",
       "      <td>men</td>\n",
       "      <td>87.36</td>\n",
       "      <td>1721.00</td>\n",
       "    </tr>\n",
       "    <tr>\n",
       "      <th>78</th>\n",
       "      <td>Watches</td>\n",
       "      <td>JBW Victory Women's 16 Diamonds Mother of Pear...</td>\n",
       "      <td>5870.0</td>\n",
       "      <td>753.98</td>\n",
       "      <td>79.0</td>\n",
       "      <td>FREE Shipping</td>\n",
       "      <td>women</td>\n",
       "      <td>87.16</td>\n",
       "      <td>5116.02</td>\n",
       "    </tr>\n",
       "  </tbody>\n",
       "</table>\n",
       "</div>"
      ],
      "text/plain": [
       "    category                                            product  \\\n",
       "151  Watches  Akribos XXIV Men's Black Dial Stainless Steel ...   \n",
       "153  Watches  August Steiner Men's Gun/White Dial Metal Band...   \n",
       "55   Watches  JBW Alessandra for Women - Analog Stainless St...   \n",
       "58   Watches  Akribos XXIV Swiss Quartz Chronograph Strap Me...   \n",
       "78   Watches  JBW Victory Women's 16 Diamonds Mother of Pear...   \n",
       "\n",
       "     Original_price   price  perc_of_unit_sold                shpping_rate  \\\n",
       "151          2240.0  139.48               80.0  Eligible for FREE Shipping   \n",
       "153          1670.0  199.49               77.0  Eligible for FREE Shipping   \n",
       "55           5481.0  679.49               41.0               FREE Shipping   \n",
       "58           1970.0  249.00               95.0               FREE Shipping   \n",
       "78           5870.0  753.98               79.0               FREE Shipping   \n",
       "\n",
       "    gender  discount_prc      gap  \n",
       "151    men         93.77  2100.52  \n",
       "153    men         88.05  1470.51  \n",
       "55   women         87.60  4801.51  \n",
       "58     men         87.36  1721.00  \n",
       "78   women         87.16  5116.02  "
      ]
     },
     "execution_count": 240,
     "metadata": {},
     "output_type": "execute_result"
    }
   ],
   "source": [
    "# def con(x):\n",
    "#     if 75 < x <= 100:\n",
    "#         return \"75-100\"\n",
    "#     elif 50 < x <= 75:\n",
    "#         return \"50-75\"\n",
    "#     elif 25 < x <= 50:\n",
    "#         return \"25-50\"\n",
    "#     else:\n",
    "#         return \"under 25\"\n",
    "    \n",
    "# df['discount_cat'] = df['discount_prc'].apply(lambda x: con(x))\n",
    "\n",
    "df['discount_prc'] = round((1-(df['price']/df['Original_price']))*100,2)\n",
    "df['gap'] = df['Original_price'] - df['price']\n",
    "df.sort_values('discount_prc',ascending=0).head()"
   ]
  },
  {
   "cell_type": "code",
   "execution_count": 241,
   "metadata": {},
   "outputs": [
    {
     "data": {
      "text/plain": [
       "Text(0, 0.5, 'Presentase Produk Terjual')"
      ]
     },
     "execution_count": 241,
     "metadata": {},
     "output_type": "execute_result"
    },
    {
     "data": {
      "image/png": "[encoded data removed]",
      "text/plain": [
       "<Figure size 720x432 with 1 Axes>"
      ]
     },
     "metadata": {
      "needs_background": "light"
     },
     "output_type": "display_data"
    }
   ],
   "source": [
    "plt.figure(figsize=(10,6))\n",
    "plt.title('Perbandingan Penjualan Produk berdasarkan % Besar diskon')\n",
    "sns.scatterplot(df.discount_prc,df.perc_of_unit_sold,hue=df.category)\n",
    "plt.xlabel('% Besarnya Diskon')\n",
    "plt.ylabel('Presentase Produk Terjual')"
   ]
  },
  {
   "cell_type": "markdown",
   "metadata": {},
   "source": [
    "Jika dilihat dari grafik diatas, tidak ada korelasi antara besarnya diskon yang diberikan dengan presentase penjualan"
   ]
  },
  {
   "cell_type": "code",
   "execution_count": 242,
   "metadata": {},
   "outputs": [
    {
     "data": {
      "text/html": [
       "<div>\n",
       "<style scoped>\n",
       "    .dataframe tbody tr th:only-of-type {\n",
       "        vertical-align: middle;\n",
       "    }\n",
       "\n",
       "    .dataframe tbody tr th {\n",
       "        vertical-align: top;\n",
       "    }\n",
       "\n",
       "    .dataframe thead th {\n",
       "        text-align: right;\n",
       "    }\n",
       "</style>\n",
       "<table border=\"1\" class=\"dataframe\">\n",
       "  <thead>\n",
       "    <tr style=\"text-align: right;\">\n",
       "      <th></th>\n",
       "      <th>Original_price</th>\n",
       "      <th>price</th>\n",
       "      <th>perc_of_unit_sold</th>\n",
       "      <th>discount_prc</th>\n",
       "      <th>gap</th>\n",
       "    </tr>\n",
       "  </thead>\n",
       "  <tbody>\n",
       "    <tr>\n",
       "      <th>Original_price</th>\n",
       "      <td>1.000000</td>\n",
       "      <td>0.680254</td>\n",
       "      <td>-0.038346</td>\n",
       "      <td>0.512197</td>\n",
       "      <td>0.973547</td>\n",
       "    </tr>\n",
       "    <tr>\n",
       "      <th>price</th>\n",
       "      <td>0.680254</td>\n",
       "      <td>1.000000</td>\n",
       "      <td>-0.228193</td>\n",
       "      <td>-0.024817</td>\n",
       "      <td>0.494784</td>\n",
       "    </tr>\n",
       "    <tr>\n",
       "      <th>perc_of_unit_sold</th>\n",
       "      <td>-0.038346</td>\n",
       "      <td>-0.228193</td>\n",
       "      <td>1.000000</td>\n",
       "      <td>0.085791</td>\n",
       "      <td>0.025671</td>\n",
       "    </tr>\n",
       "    <tr>\n",
       "      <th>discount_prc</th>\n",
       "      <td>0.512197</td>\n",
       "      <td>-0.024817</td>\n",
       "      <td>0.085791</td>\n",
       "      <td>1.000000</td>\n",
       "      <td>0.614996</td>\n",
       "    </tr>\n",
       "    <tr>\n",
       "      <th>gap</th>\n",
       "      <td>0.973547</td>\n",
       "      <td>0.494784</td>\n",
       "      <td>0.025671</td>\n",
       "      <td>0.614996</td>\n",
       "      <td>1.000000</td>\n",
       "    </tr>\n",
       "  </tbody>\n",
       "</table>\n",
       "</div>"
      ],
      "text/plain": [
       "                   Original_price     price  perc_of_unit_sold  discount_prc  \\\n",
       "Original_price           1.000000  0.680254          -0.038346      0.512197   \n",
       "price                    0.680254  1.000000          -0.228193     -0.024817   \n",
       "perc_of_unit_sold       -0.038346 -0.228193           1.000000      0.085791   \n",
       "discount_prc             0.512197 -0.024817           0.085791      1.000000   \n",
       "gap                      0.973547  0.494784           0.025671      0.614996   \n",
       "\n",
       "                        gap  \n",
       "Original_price     0.973547  \n",
       "price              0.494784  \n",
       "perc_of_unit_sold  0.025671  \n",
       "discount_prc       0.614996  \n",
       "gap                1.000000  "
      ]
     },
     "execution_count": 242,
     "metadata": {},
     "output_type": "execute_result"
    }
   ],
   "source": [
    "df.corr()"
   ]
  },
  {
   "cell_type": "markdown",
   "metadata": {},
   "source": [
    "Jika dilihat pada tabel corr, nilai corr untuk \"% besar diskon\" adalah 0.085, yang berarti pengaruhnya terhadap presentase produk terjual tidak kuat."
   ]
  },
  {
   "cell_type": "code",
   "execution_count": 243,
   "metadata": {},
   "outputs": [
    {
     "data": {
      "text/html": [
       "<div>\n",
       "<style scoped>\n",
       "    .dataframe tbody tr th:only-of-type {\n",
       "        vertical-align: middle;\n",
       "    }\n",
       "\n",
       "    .dataframe tbody tr th {\n",
       "        vertical-align: top;\n",
       "    }\n",
       "\n",
       "    .dataframe thead th {\n",
       "        text-align: right;\n",
       "    }\n",
       "</style>\n",
       "<table border=\"1\" class=\"dataframe\">\n",
       "  <thead>\n",
       "    <tr style=\"text-align: right;\">\n",
       "      <th></th>\n",
       "      <th>Original_price</th>\n",
       "      <th>price</th>\n",
       "      <th>perc_of_unit_sold</th>\n",
       "      <th>discount_prc</th>\n",
       "      <th>gap</th>\n",
       "    </tr>\n",
       "    <tr>\n",
       "      <th>category</th>\n",
       "      <th></th>\n",
       "      <th></th>\n",
       "      <th></th>\n",
       "      <th></th>\n",
       "      <th></th>\n",
       "    </tr>\n",
       "  </thead>\n",
       "  <tbody>\n",
       "    <tr>\n",
       "      <th>Watches</th>\n",
       "      <td>135127.4</td>\n",
       "      <td>47341.44</td>\n",
       "      <td>4924.0</td>\n",
       "      <td>4643.08</td>\n",
       "      <td>87785.96</td>\n",
       "    </tr>\n",
       "    <tr>\n",
       "      <th>Eyewear</th>\n",
       "      <td>49166.5</td>\n",
       "      <td>23354.12</td>\n",
       "      <td>2486.0</td>\n",
       "      <td>3067.96</td>\n",
       "      <td>25812.38</td>\n",
       "    </tr>\n",
       "    <tr>\n",
       "      <th>Athletic Shoes</th>\n",
       "      <td>11478.0</td>\n",
       "      <td>8045.19</td>\n",
       "      <td>1850.0</td>\n",
       "      <td>880.99</td>\n",
       "      <td>3432.81</td>\n",
       "    </tr>\n",
       "    <tr>\n",
       "      <th>Perfumes &amp; Fragrances</th>\n",
       "      <td>4594.0</td>\n",
       "      <td>1722.23</td>\n",
       "      <td>1502.0</td>\n",
       "      <td>1178.68</td>\n",
       "      <td>2871.77</td>\n",
       "    </tr>\n",
       "    <tr>\n",
       "      <th>Casual &amp; Dress Shoes</th>\n",
       "      <td>6152.0</td>\n",
       "      <td>3955.29</td>\n",
       "      <td>795.0</td>\n",
       "      <td>498.89</td>\n",
       "      <td>2196.71</td>\n",
       "    </tr>\n",
       "    <tr>\n",
       "      <th>Sportswear</th>\n",
       "      <td>990.0</td>\n",
       "      <td>583.89</td>\n",
       "      <td>381.0</td>\n",
       "      <td>303.07</td>\n",
       "      <td>406.11</td>\n",
       "    </tr>\n",
       "    <tr>\n",
       "      <th>Wallets</th>\n",
       "      <td>1598.0</td>\n",
       "      <td>656.46</td>\n",
       "      <td>269.0</td>\n",
       "      <td>386.11</td>\n",
       "      <td>941.54</td>\n",
       "    </tr>\n",
       "  </tbody>\n",
       "</table>\n",
       "</div>"
      ],
      "text/plain": [
       "                       Original_price     price  perc_of_unit_sold  \\\n",
       "category                                                             \n",
       "Watches                      135127.4  47341.44             4924.0   \n",
       "Eyewear                       49166.5  23354.12             2486.0   \n",
       "Athletic Shoes                11478.0   8045.19             1850.0   \n",
       "Perfumes & Fragrances          4594.0   1722.23             1502.0   \n",
       "Casual & Dress Shoes           6152.0   3955.29              795.0   \n",
       "Sportswear                      990.0    583.89              381.0   \n",
       "Wallets                        1598.0    656.46              269.0   \n",
       "\n",
       "                       discount_prc       gap  \n",
       "category                                       \n",
       "Watches                     4643.08  87785.96  \n",
       "Eyewear                     3067.96  25812.38  \n",
       "Athletic Shoes               880.99   3432.81  \n",
       "Perfumes & Fragrances       1178.68   2871.77  \n",
       "Casual & Dress Shoes         498.89   2196.71  \n",
       "Sportswear                   303.07    406.11  \n",
       "Wallets                      386.11    941.54  "
      ]
     },
     "execution_count": 243,
     "metadata": {},
     "output_type": "execute_result"
    }
   ],
   "source": [
    "df.groupby('category').sum().sort_values('perc_of_unit_sold',ascending=0)"
   ]
  },
  {
   "cell_type": "markdown",
   "metadata": {},
   "source": [
    "Kategori yang memiliki penjualan terbanyak adalah Watches dan Eyewear"
   ]
  },
  {
   "cell_type": "markdown",
   "metadata": {},
   "source": [
    "### Pengaruh Shipping"
   ]
  },
  {
   "cell_type": "code",
   "execution_count": 244,
   "metadata": {},
   "outputs": [
    {
     "data": {
      "text/html": [
       "<div>\n",
       "<style scoped>\n",
       "    .dataframe tbody tr th:only-of-type {\n",
       "        vertical-align: middle;\n",
       "    }\n",
       "\n",
       "    .dataframe tbody tr th {\n",
       "        vertical-align: top;\n",
       "    }\n",
       "\n",
       "    .dataframe thead th {\n",
       "        text-align: right;\n",
       "    }\n",
       "</style>\n",
       "<table border=\"1\" class=\"dataframe\">\n",
       "  <thead>\n",
       "    <tr style=\"text-align: right;\">\n",
       "      <th></th>\n",
       "      <th>Original_price</th>\n",
       "      <th>price</th>\n",
       "      <th>perc_of_unit_sold</th>\n",
       "      <th>discount_prc</th>\n",
       "      <th>gap</th>\n",
       "    </tr>\n",
       "    <tr>\n",
       "      <th>shpping_rate</th>\n",
       "      <th></th>\n",
       "      <th></th>\n",
       "      <th></th>\n",
       "      <th></th>\n",
       "      <th></th>\n",
       "    </tr>\n",
       "  </thead>\n",
       "  <tbody>\n",
       "    <tr>\n",
       "      <th>Eligible for FREE Shipping</th>\n",
       "      <td>19387.0</td>\n",
       "      <td>7645.47</td>\n",
       "      <td>4219.0</td>\n",
       "      <td>3354.44</td>\n",
       "      <td>11741.53</td>\n",
       "    </tr>\n",
       "    <tr>\n",
       "      <th>FREE Shipping</th>\n",
       "      <td>189718.9</td>\n",
       "      <td>78013.15</td>\n",
       "      <td>7988.0</td>\n",
       "      <td>7604.34</td>\n",
       "      <td>111705.75</td>\n",
       "    </tr>\n",
       "  </tbody>\n",
       "</table>\n",
       "</div>"
      ],
      "text/plain": [
       "                            Original_price     price  perc_of_unit_sold  \\\n",
       "shpping_rate                                                              \n",
       "Eligible for FREE Shipping         19387.0   7645.47             4219.0   \n",
       "FREE Shipping                     189718.9  78013.15             7988.0   \n",
       "\n",
       "                            discount_prc        gap  \n",
       "shpping_rate                                         \n",
       "Eligible for FREE Shipping       3354.44   11741.53  \n",
       "FREE Shipping                    7604.34  111705.75  "
      ]
     },
     "execution_count": 244,
     "metadata": {},
     "output_type": "execute_result"
    }
   ],
   "source": [
    "ship = df.groupby('shpping_rate')\n",
    "ship.sum()"
   ]
  },
  {
   "cell_type": "markdown",
   "metadata": {},
   "source": [
    "Jika dilihat dari tabel berikut, Free shipping memiliki tingkat penjualan produk yang lebih tinggi dibandingkan dengan eligible for free shipping"
   ]
  },
  {
   "cell_type": "code",
   "execution_count": 245,
   "metadata": {},
   "outputs": [
    {
     "data": {
      "text/plain": [
       "Text(0, 0.5, 'Jumlah produk terjual')"
      ]
     },
     "execution_count": 245,
     "metadata": {},
     "output_type": "execute_result"
    },
    {
     "data": {
      "image/png": "[encoded data removed]",
      "text/plain": [
       "<Figure size 720x432 with 1 Axes>"
      ]
     },
     "metadata": {
      "needs_background": "light"
     },
     "output_type": "display_data"
    }
   ],
   "source": [
    "x = [i for i,df in ship]\n",
    "\n",
    "\n",
    "plt.figure(figsize=(10,6))\n",
    "plt.title('Perbandingan Penjualan Produk berdasarkan Jenis Shipping')\n",
    "sns.barplot(df.shpping_rate, df.perc_of_unit_sold,estimator=sum)\n",
    "plt.xlabel('Jenis shipping')\n",
    "plt.ylabel('Jumlah produk terjual')"
   ]
  },
  {
   "cell_type": "markdown",
   "metadata": {},
   "source": [
    "Pembelian produk disertai free shipping, memiliki tingkat penjualan yang lebih tinggi"
   ]
  },
  {
   "cell_type": "markdown",
   "metadata": {},
   "source": [
    "### Watches dan Eyewear"
   ]
  },
  {
   "cell_type": "code",
   "execution_count": 246,
   "metadata": {},
   "outputs": [
    {
     "data": {
      "text/plain": [
       "(1032.7759999999998, 54.624470588235326)"
      ]
     },
     "execution_count": 246,
     "metadata": {},
     "output_type": "execute_result"
    }
   ],
   "source": [
    "watches = df[df.category == 'Watches']\n",
    "watches['gap'].mean(),watches['discount_prc'].mean()"
   ]
  },
  {
   "cell_type": "markdown",
   "metadata": {},
   "source": [
    "Produk kategori eyewear memilki rata2 diskon sebesar 51.9% dengan rata2 selisih harga sebesar 437"
   ]
  },
  {
   "cell_type": "code",
   "execution_count": 247,
   "metadata": {},
   "outputs": [
    {
     "data": {
      "text/plain": [
       "(437.49796610169483, 51.999322033898316)"
      ]
     },
     "execution_count": 247,
     "metadata": {},
     "output_type": "execute_result"
    }
   ],
   "source": [
    "eye = df[df.category == 'Eyewear']\n",
    "eye['gap'].mean(),eye['discount_prc'].mean()"
   ]
  },
  {
   "cell_type": "markdown",
   "metadata": {},
   "source": [
    "Produk kategori eyewear memilki rata2 diskon sebesar 51.9% dengan rata2 selisih harga sebesar 437"
   ]
  },
  {
   "cell_type": "markdown",
   "metadata": {},
   "source": [
    "### Wallet dan Sportswear"
   ]
  },
  {
   "cell_type": "code",
   "execution_count": 248,
   "metadata": {
    "scrolled": true
   },
   "outputs": [
    {
     "data": {
      "text/plain": [
       "(134.50571428571428, 55.15857142857143)"
      ]
     },
     "execution_count": 248,
     "metadata": {},
     "output_type": "execute_result"
    }
   ],
   "source": [
    "wallet = df[df.category == 'Wallets']\n",
    "wallet['gap'].mean(),wallet['discount_prc'].mean()"
   ]
  },
  {
   "cell_type": "markdown",
   "metadata": {},
   "source": [
    "Kategori wallet memiliki rata2 diskon sebesar 55.1% dengan rata2 selisih harga sebesar 134"
   ]
  },
  {
   "cell_type": "code",
   "execution_count": 249,
   "metadata": {},
   "outputs": [
    {
     "data": {
      "text/plain": [
       "(58.01571428571428, 43.295714285714276)"
      ]
     },
     "execution_count": 249,
     "metadata": {},
     "output_type": "execute_result"
    }
   ],
   "source": [
    "spt = df[df.category == 'Sportswear']\n",
    "spt['gap'].mean(),spt['discount_prc'].mean()"
   ]
  },
  {
   "cell_type": "markdown",
   "metadata": {},
   "source": [
    "Kategori Sportswear memiliki rata2 diskon sebesar 43.2% dengan rata2 selisih harga sebesar 58"
   ]
  },
  {
   "cell_type": "code",
   "execution_count": 250,
   "metadata": {},
   "outputs": [
    {
     "data": {
      "text/plain": [
       "Text(0, 0.5, 'Jumlah produk terjual')"
      ]
     },
     "execution_count": 250,
     "metadata": {},
     "output_type": "execute_result"
    },
    {
     "data": {
      "image/png": "[encoded data removed]",
      "text/plain": [
       "<Figure size 720x432 with 1 Axes>"
      ]
     },
     "metadata": {
      "needs_background": "light"
     },
     "output_type": "display_data"
    }
   ],
   "source": [
    "mix = df[df.category.str.contains(\"Watches|Eyewear|Sportswear|Wallets\")]\n",
    "\n",
    "plt.figure(figsize=(10,6))\n",
    "sns.barplot(mix.shpping_rate, mix.perc_of_unit_sold, hue=mix.category,estimator=sum)\n",
    "plt.xlabel('Jenis Shipping')\n",
    "plt.ylabel('Jumlah produk terjual')"
   ]
  },
  {
   "cell_type": "code",
   "execution_count": 251,
   "metadata": {},
   "outputs": [
    {
     "data": {
      "text/html": [
       "<div>\n",
       "<style scoped>\n",
       "    .dataframe tbody tr th:only-of-type {\n",
       "        vertical-align: middle;\n",
       "    }\n",
       "\n",
       "    .dataframe tbody tr th {\n",
       "        vertical-align: top;\n",
       "    }\n",
       "\n",
       "    .dataframe thead th {\n",
       "        text-align: right;\n",
       "    }\n",
       "</style>\n",
       "<table border=\"1\" class=\"dataframe\">\n",
       "  <thead>\n",
       "    <tr style=\"text-align: right;\">\n",
       "      <th></th>\n",
       "      <th></th>\n",
       "      <th>Original_price</th>\n",
       "      <th>price</th>\n",
       "      <th>perc_of_unit_sold</th>\n",
       "      <th>discount_prc</th>\n",
       "      <th>gap</th>\n",
       "    </tr>\n",
       "    <tr>\n",
       "      <th>category</th>\n",
       "      <th>shpping_rate</th>\n",
       "      <th></th>\n",
       "      <th></th>\n",
       "      <th></th>\n",
       "      <th></th>\n",
       "      <th></th>\n",
       "    </tr>\n",
       "  </thead>\n",
       "  <tbody>\n",
       "    <tr>\n",
       "      <th rowspan=\"2\" valign=\"top\">Eyewear</th>\n",
       "      <th>Eligible for FREE Shipping</th>\n",
       "      <td>300.000000</td>\n",
       "      <td>139.525833</td>\n",
       "      <td>56.250000</td>\n",
       "      <td>50.922500</td>\n",
       "      <td>160.474167</td>\n",
       "    </tr>\n",
       "    <tr>\n",
       "      <th>FREE Shipping</th>\n",
       "      <td>969.500000</td>\n",
       "      <td>461.272553</td>\n",
       "      <td>38.531915</td>\n",
       "      <td>52.274255</td>\n",
       "      <td>508.227447</td>\n",
       "    </tr>\n",
       "    <tr>\n",
       "      <th>Sportswear</th>\n",
       "      <th>Eligible for FREE Shipping</th>\n",
       "      <td>141.428571</td>\n",
       "      <td>83.412857</td>\n",
       "      <td>54.428571</td>\n",
       "      <td>43.295714</td>\n",
       "      <td>58.015714</td>\n",
       "    </tr>\n",
       "    <tr>\n",
       "      <th>Wallets</th>\n",
       "      <th>Eligible for FREE Shipping</th>\n",
       "      <td>228.285714</td>\n",
       "      <td>93.780000</td>\n",
       "      <td>38.428571</td>\n",
       "      <td>55.158571</td>\n",
       "      <td>134.505714</td>\n",
       "    </tr>\n",
       "    <tr>\n",
       "      <th rowspan=\"2\" valign=\"top\">Watches</th>\n",
       "      <th>Eligible for FREE Shipping</th>\n",
       "      <td>707.500000</td>\n",
       "      <td>142.336250</td>\n",
       "      <td>77.125000</td>\n",
       "      <td>59.317500</td>\n",
       "      <td>565.163750</td>\n",
       "    </tr>\n",
       "    <tr>\n",
       "      <th>FREE Shipping</th>\n",
       "      <td>1681.394805</td>\n",
       "      <td>600.035714</td>\n",
       "      <td>55.935065</td>\n",
       "      <td>54.136883</td>\n",
       "      <td>1081.359091</td>\n",
       "    </tr>\n",
       "  </tbody>\n",
       "</table>\n",
       "</div>"
      ],
      "text/plain": [
       "                                       Original_price       price  \\\n",
       "category   shpping_rate                                             \n",
       "Eyewear    Eligible for FREE Shipping      300.000000  139.525833   \n",
       "           FREE Shipping                   969.500000  461.272553   \n",
       "Sportswear Eligible for FREE Shipping      141.428571   83.412857   \n",
       "Wallets    Eligible for FREE Shipping      228.285714   93.780000   \n",
       "Watches    Eligible for FREE Shipping      707.500000  142.336250   \n",
       "           FREE Shipping                  1681.394805  600.035714   \n",
       "\n",
       "                                       perc_of_unit_sold  discount_prc  \\\n",
       "category   shpping_rate                                                  \n",
       "Eyewear    Eligible for FREE Shipping          56.250000     50.922500   \n",
       "           FREE Shipping                       38.531915     52.274255   \n",
       "Sportswear Eligible for FREE Shipping          54.428571     43.295714   \n",
       "Wallets    Eligible for FREE Shipping          38.428571     55.158571   \n",
       "Watches    Eligible for FREE Shipping          77.125000     59.317500   \n",
       "           FREE Shipping                       55.935065     54.136883   \n",
       "\n",
       "                                               gap  \n",
       "category   shpping_rate                             \n",
       "Eyewear    Eligible for FREE Shipping   160.474167  \n",
       "           FREE Shipping                508.227447  \n",
       "Sportswear Eligible for FREE Shipping    58.015714  \n",
       "Wallets    Eligible for FREE Shipping   134.505714  \n",
       "Watches    Eligible for FREE Shipping   565.163750  \n",
       "           FREE Shipping               1081.359091  "
      ]
     },
     "execution_count": 251,
     "metadata": {},
     "output_type": "execute_result"
    }
   ],
   "source": [
    "mix.groupby(['category','shpping_rate']).mean()"
   ]
  },
  {
   "cell_type": "markdown",
   "metadata": {},
   "source": [
    "Berdasarkan grafik dan tabel diatas, terlihat bahwa Watches dan Eyewear memilki sales yang tinggi apabila disertai dengan Free Shipping"
   ]
  },
  {
   "cell_type": "markdown",
   "metadata": {},
   "source": [
    "## Insight"
   ]
  },
  {
   "cell_type": "markdown",
   "metadata": {},
   "source": [
    "##### 1. Besarnya % diskon tidak mempengaruhi jumlah produk yang terjual\n",
    "##### 2. Produk yang dijual disertai Free Shipping memilki tingkat  penjualan yang lebih tinggi \n",
    "##### 3. Produk berkategori Watches dan Eyewear dengan Free Shipping, memiliki tingkat penjualan yang tinggi dikarenakan kategori tersebut memiliki rata2 nominal potongan harga terbesar yaitu 1081 dan 508, hampir 2 kali dibandingkan dengan  eligible for free shipping\n",
    "##### 4. Wallets dan Sportswear memiliki tingkat penjualan yang rendah, dengan rata2 nominal potongan harga 134 dan 58. Kategori ini juga tidak memiliki penjualan yang disertai free shipping"
   ]
  },
  {
   "cell_type": "markdown",
   "metadata": {},
   "source": [
    "## Saran dan Kesimpulan"
   ]
  },
  {
   "cell_type": "markdown",
   "metadata": {},
   "source": [
    "#### Konsumen lebih tertarik untuk membeli produk yang disertai layanan Free Shipping, sehingga untuk menaikkan rate penjualan disarankan untuk menambah layanan free shipping dalam pembelian produk. Karena eligible for free shipping berarti konsumen harus membeli produk dengan nominal tertentu untuk mendapatkan layanan free shipping\n",
    "\n",
    "#### Konsumen lebih tertarik dengan nominal selisih harga dibanding besarnya presentase diskon yang diberikan. Sehingga nilai % diskon pada barang dengan harga yang tinggi meskipun angka % tidak besar, lebih disukai konsumen dibandingkan nilai % diskon yang besar pada barang dengan harga rendah"
   ]
  },
  {
   "cell_type": "code",
   "execution_count": null,
   "metadata": {},
   "outputs": [],
   "source": []
  }
 ],
 "metadata": {
  "kernelspec": {
   "display_name": "Python 3",
   "language": "python",
   "name": "python3"
  },
  "language_info": {
   "codemirror_mode": {
    "name": "ipython",
    "version": 3
   },
   "file_extension": ".py",
   "mimetype": "text/x-python",
   "name": "python",
   "nbconvert_exporter": "python",
   "pygments_lexer": "ipython3",
   "version": "3.8.3"
  }
 },
 "nbformat": 4,
 "nbformat_minor": 4
}
